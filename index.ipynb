{
 "cells": [
  {
   "cell_type": "markdown",
   "metadata": {},
   "source": [
    "# Setting up snowflake data"
   ]
  },
  {
   "cell_type": "markdown",
   "metadata": {},
   "source": [
    "### Getting Setup"
   ]
  },
  {
   "cell_type": "markdown",
   "metadata": {},
   "source": [
    "In this lesson, we'll set up our data for the following lessons."
   ]
  },
  {
   "cell_type": "markdown",
   "metadata": {},
   "source": [
    "With the role set to accountadmin in the top right do the following.\n",
    "\n",
    "Begin by creating a new database, and a new schema where we want to load the data.  This is the first five lines in the sql statement below (which can be accessed [here](https://raw.githubusercontent.com/jigsawlabs-student/northwinds_snowflake/main/grant_usage.sql).  Highlight the relevant lines and press the play button in the top right.\n",
    "\n",
    "The lines below that  -- lines 7 through 16 -- are very important.  These lines specify that our DBT user `pc_dbt_role` is able to access this database and query the related tables and schemas.  Again the code is available [here](https://raw.githubusercontent.com/jigsawlabs-student/northwinds_snowflake/main/grant_usage.sql)."
   ]
  },
  {
   "cell_type": "markdown",
   "metadata": {},
   "source": [
    "<img src=\"./snowflake-run.png\" width=\"70%\">"
   ]
  },
  {
   "cell_type": "markdown",
   "metadata": {},
   "source": [
    "After granting the proper amount of access, we can then create our tables and insert in our data.  \n",
    "\n",
    "Copy and paste the code from the following [file](https://raw.githubusercontent.com/jigsawlabs-student/northwinds_snowflake/main/northwinds.sql).  Then highlight the code and press play."
   ]
  },
  {
   "cell_type": "markdown",
   "metadata": {},
   "source": [
    "### Checking with DBT"
   ]
  },
  {
   "cell_type": "markdown",
   "metadata": {},
   "source": [
    "Finally, you should be able to access the code from dbt with something like the following:"
   ]
  },
  {
   "cell_type": "markdown",
   "metadata": {},
   "source": [
    "<img src=\"./dbt-access.png\" width=\"80%\">"
   ]
  },
  {
   "cell_type": "markdown",
   "metadata": {},
   "source": [
    "With that your data is properly loaded and you can access the northwinds tables from dbt."
   ]
  }
 ],
 "metadata": {
  "kernelspec": {
   "display_name": "Python 3.10.6 64-bit",
   "language": "python",
   "name": "python3"
  },
  "language_info": {
   "name": "python",
   "version": "3.10.6"
  },
  "orig_nbformat": 4,
  "vscode": {
   "interpreter": {
    "hash": "b0fa6594d8f4cbf19f97940f81e996739fb7646882a419484c72d19e05852a7e"
   }
  }
 },
 "nbformat": 4,
 "nbformat_minor": 2
}
